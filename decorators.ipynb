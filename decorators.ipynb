{
 "cells": [
  {
   "cell_type": "code",
   "execution_count": null,
   "outputs": [],
   "source": [
    "def decorator_function(func):\n",
    "    def wrapper():\n",
    "        print('Функция-обёртка!')\n",
    "        print('Оборачиваемая функция: {}'.format(func))\n",
    "        print('Выполняем обёрнутую функцию... 1')\n",
    "        func()\n",
    "        print('Выходим из обёртки 1')\n",
    "\n",
    "    return wrapper\n",
    "\n",
    "\n",
    "def decorator_function2(func):\n",
    "    def wrapper():\n",
    "        print('Функция-обретка 2')\n",
    "        print('Оборачиваемая функция: {}'.format(func))\n",
    "        print('Выполняем обёрнутую функцию... 2')\n",
    "        func()\n",
    "        print('Выходим из обёртки 2')\n",
    "\n",
    "    return wrapper\n",
    "\n",
    "\n",
    "@decorator_function2\n",
    "@decorator_function\n",
    "def hello_world():"
   ],
   "metadata": {
    "collapsed": false,
    "pycharm": {
     "name": "#%%\n"
    }
   }
  },
  {
   "cell_type": "code",
   "execution_count": null,
   "outputs": [],
   "source": [
    "    print('Hello world')\n",
    "\n",
    "hello_world()"
   ],
   "metadata": {
    "collapsed": false,
    "pycharm": {
     "name": "#%%\n"
    }
   }
  },
  {
   "cell_type": "code",
   "execution_count": 3,
   "outputs": [
    {
     "name": "stdout",
     "output_type": "stream",
     "text": [
      "wrapper\n"
     ]
    }
   ],
   "source": [
    "print(hello_world.__name__)"
   ],
   "metadata": {
    "collapsed": false,
    "pycharm": {
     "name": "#%%\n"
    }
   }
  },
  {
   "cell_type": "code",
   "execution_count": null,
   "outputs": [],
   "source": [
    "def decorator_function(wrapped_func):\n",
    "    def wrapper(*args):\n",
    "        wrapped_func(args)\n",
    "\n",
    "    return wrapper\n",
    "\n",
    "\n",
    "@decorator_function\n",
    "def hello_world(text):\n",
    "    print(text)"
   ],
   "metadata": {
    "collapsed": false,
    "pycharm": {
     "name": "#%%\n"
    }
   }
  },
  {
   "cell_type": "code",
   "execution_count": null,
   "outputs": [],
   "source": [
    "\n",
    "hello_world('Hello world!')"
   ],
   "metadata": {
    "collapsed": false,
    "pycharm": {
     "name": "#%%\n"
    }
   }
  },
  {
   "cell_type": "code",
   "execution_count": null,
   "outputs": [],
   "source": [
    "def makebold(fn):\n",
    "    def wrapped():\n",
    "        return \"<b>\" + fn() + \"</b>\"\n",
    "\n",
    "    return wrapped\n",
    "\n",
    "\n",
    "def makeitalic(fn):\n",
    "    def wrapped():\n",
    "        return \"<i>\" + fn() + \"</i>\"\n",
    "\n",
    "    return wrapped"
   ],
   "metadata": {
    "collapsed": false,
    "pycharm": {
     "name": "#%%\n"
    }
   }
  },
  {
   "cell_type": "code",
   "execution_count": null,
   "outputs": [],
   "source": [
    "\n",
    "@makebold\n",
    "@makeitalic\n",
    "def hello():\n",
    "    return \"hello habr\"\n",
    "\n",
    "\n",
    "print(hello())  ## выведет <b><i>hello habr</i></b>"
   ],
   "metadata": {
    "collapsed": false,
    "pycharm": {
     "name": "#%%\n"
    }
   }
  },
  {
   "cell_type": "code",
   "execution_count": 11,
   "outputs": [
    {
     "name": "stdout",
     "output_type": "stream",
     "text": [
      "Да!\n"
     ]
    },
    {
     "data": {
      "text/plain": "['__annotations__',\n '__builtins__',\n '__call__',\n '__class__',\n '__closure__',\n '__code__',\n '__defaults__',\n '__delattr__',\n '__dict__',\n '__dir__',\n '__doc__',\n '__eq__',\n '__format__',\n '__ge__',\n '__get__',\n '__getattribute__',\n '__globals__',\n '__gt__',\n '__hash__',\n '__init__',\n '__init_subclass__',\n '__kwdefaults__',\n '__le__',\n '__lt__',\n '__module__',\n '__name__',\n '__ne__',\n '__new__',\n '__qualname__',\n '__reduce__',\n '__reduce_ex__',\n '__repr__',\n '__setattr__',\n '__sizeof__',\n '__str__',\n '__subclasshook__']"
     },
     "execution_count": 11,
     "metadata": {},
     "output_type": "execute_result"
    }
   ],
   "source": [
    "def shout(word=\"да\"):\n",
    "    return word.capitalize() + \"!\"\n",
    "\n",
    "\n",
    "print(shout())\n",
    "\n",
    "scream = shout\n",
    "type(scream)\n",
    "dir(scream)"
   ],
   "metadata": {
    "collapsed": false,
    "pycharm": {
     "name": "#%%\n"
    }
   }
  },
  {
   "cell_type": "code",
   "execution_count": null,
   "outputs": [],
   "source": [
    "def getTalk(type=\"shout\"):\n",
    "    # Мы определяем функции прямо здесь\n",
    "    def shout(word=\"да\"):\n",
    "        return word.capitalize() + \"!\"\n",
    "\n",
    "    def whisper(word=\"да\"):\n",
    "        return word.lower() + \"...\";\n",
    "\n",
    "    # Затем возвращаем необходимую\n",
    "    if type == \"shout\":\n",
    "        # Заметьте, что мы НЕ используем \"()\", нам нужно не вызвать функцию,\n",
    "        # а вернуть объект функции\n",
    "        return shout\n",
    "    else:\n",
    "        return whisper\n",
    "\n",
    "\n",
    "# Как использовать это непонятное нечто?\n",
    "# Возьмём функцию и свяжем её с переменной\n",
    "talk = getTalk()\n",
    "\n",
    "# Как мы можем видеть, \"talk\" теперь - объект \"function\":\n",
    "print(talk)\n",
    "# выведет: <function shout at 0xb7ea817c>\n",
    "\n",
    "# Который можно вызывать, как и функцию, определённую \"обычным образом\":\n",
    "print(talk())\n",
    "\n",
    "# Если нам захочется - можно вызвать её напрямую из возвращаемого значения:\n",
    "print(getTalk(\"whisper\")())\n",
    "# выведет: да...\n",
    "\n",
    "print(talk('shout'))"
   ],
   "metadata": {
    "collapsed": false,
    "pycharm": {
     "name": "#%%\n"
    }
   }
  },
  {
   "cell_type": "code",
   "execution_count": 16,
   "outputs": [
    {
     "name": "stdout",
     "output_type": "stream",
     "text": [
      "Я простая одинокая функция, ты ведь не посмеешь меня изменять?..\n",
      "Я - код, который отработает до вызова функции\n",
      "Я простая одинокая функция, ты ведь не посмеешь меня изменять?..\n",
      "А я - код, срабатывающий после\n"
     ]
    }
   ],
   "source": [
    "# Декоратор - это функция, ожидающая ДРУГУЮ функцию в качестве параметра\n",
    "def my_shiny_new_decorator(a_function_to_decorate):\n",
    "    # Внутри себя декоратор определяет функцию-\"обёртку\".\n",
    "    # Она будет (что бы вы думали?..) обёрнута вокруг декорируемой,\n",
    "    # получая возможность исполнять произвольный код до и после неё.\n",
    "\n",
    "    def the_wrapper_around_the_original_function():\n",
    "        # Поместим здесь код, который мы хотим запускать ДО вызова\n",
    "        # оригинальной функции\n",
    "        print(\"Я - код, который отработает до вызова функции\")\n",
    "\n",
    "        # ВЫЗОВЕМ саму декорируемую функцию\n",
    "        a_function_to_decorate()\n",
    "\n",
    "        # А здесь поместим код, который мы хотим запускать ПОСЛЕ вызова\n",
    "        # оригинальной функции\n",
    "        print(\"А я - код, срабатывающий после\")\n",
    "\n",
    "    # На данный момент функция \"a_function_to_decorate\" НЕ ВЫЗЫВАЛАСЬ НИ РАЗУ\n",
    "\n",
    "    # Теперь, вернём функцию-обёртку, которая содержит в себе\n",
    "    # декорируемую функцию, и код, который необходимо выполнить до и после.\n",
    "    # Всё просто!\n",
    "    return the_wrapper_around_the_original_function\n",
    "\n",
    "\n",
    "# Представим теперь, что у нас есть функция, которую мы не планируем больше трогать.\n",
    "def a_stand_alone_function():\n",
    "    print(\"Я простая одинокая функция, ты ведь не посмеешь меня изменять?..\")\n",
    "\n",
    "\n",
    "a_stand_alone_function()\n",
    "# выведет: Я простая одинокая функция, ты ведь не посмеешь меня изменять?..\n",
    "\n",
    "# Однако, чтобы изменить её поведение, мы можем декорировать её, то есть\n",
    "# Просто передать декоратору, который обернет исходную функцию в любой код,\n",
    "# который нам потребуется, и вернёт новую, готовую к использованию функцию:\n",
    "\n",
    "a_stand_alone_function_decorated = my_shiny_new_decorator(a_stand_alone_function)\n",
    "a_stand_alone_function_decorated()\n",
    "#выведет:\n",
    "# Я - код, который отработает до вызова функции\n",
    "# Я простая одинокая функция, ты ведь не посмеешь меня изменять?..\n",
    "# А я - код, срабатывающий после"
   ],
   "metadata": {
    "collapsed": false,
    "pycharm": {
     "name": "#%%\n"
    }
   }
  },
  {
   "cell_type": "code",
   "execution_count": 19,
   "outputs": [
    {
     "name": "stdout",
     "output_type": "stream",
     "text": [
      "</------\\>\n",
      "#помидоры#\n",
      "--ветчина--\n",
      "~салат~\n",
      "<\\______/>\n"
     ]
    }
   ],
   "source": [
    "def bread(func):\n",
    "    def wrapper():\n",
    "        print (\"</------\\>\")\n",
    "        func()\n",
    "        print (\"<\\______/>\")\n",
    "    return wrapper\n",
    "\n",
    "def ingredients(func):\n",
    "    def wrapper():\n",
    "        print (\"#помидоры#\")\n",
    "        func()\n",
    "        print (\"~салат~\")\n",
    "    return wrapper\n",
    "\n",
    "def sandwich(food=\"--ветчина--\"):\n",
    "    print (food)\n",
    "\n",
    "# sandwich()\n",
    "#выведет: --ветчина--\n",
    "sandwich = bread(ingredients(sandwich))\n",
    "sandwich()\n",
    "#выведет:\n",
    "# </------\\>\n",
    "# #помидоры#\n",
    "# --ветчина--\n",
    "# ~салат~\n",
    "# <\\______/>"
   ],
   "metadata": {
    "collapsed": false,
    "pycharm": {
     "name": "#%%\n"
    }
   }
  },
  {
   "cell_type": "code",
   "execution_count": null,
   "outputs": [],
   "source": [
    "def a_decorator_passing_arguments(function_to_decorate):\n",
    "    def a_wrapper_accepting_arguments(arg1, arg2): # аргументы прибывают отсюда\n",
    "        print \"Смотри, что я получил:\", arg1, arg2\n",
    "        function_to_decorate(arg1, arg2)\n",
    "    return a_wrapper_accepting_arguments\n",
    "\n",
    "# Теперь, когда мы вызываем функцию, которую возвращает декоратор,\n",
    "# мы вызываем её \"обёртку\", передаём ей аргументы и уже в свою очередь\n",
    "# она передаёт их декорируемой функции\n",
    "\n",
    "@a_decorator_passing_arguments\n",
    "def print_full_name(first_name, last_name):\n",
    "    print \"Меня зовут\", first_name, last_name\n",
    "\n",
    "print_full_name(\"Питер\", \"Венкман\")\n",
    "# выведет:\n",
    "# Смотри, что я получил: Питер Венкман\n",
    "# Меня"
   ],
   "metadata": {
    "collapsed": false,
    "pycharm": {
     "name": "#%%\n"
    }
   }
  }
 ],
 "metadata": {
  "kernelspec": {
   "display_name": "Python 3",
   "language": "python",
   "name": "python3"
  },
  "language_info": {
   "codemirror_mode": {
    "name": "ipython",
    "version": 2
   },
   "file_extension": ".py",
   "mimetype": "text/x-python",
   "name": "python",
   "nbconvert_exporter": "python",
   "pygments_lexer": "ipython2",
   "version": "2.7.6"
  }
 },
 "nbformat": 4,
 "nbformat_minor": 0
}