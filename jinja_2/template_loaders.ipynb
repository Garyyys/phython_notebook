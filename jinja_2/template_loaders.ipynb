{
 "cells": [
  {
   "cell_type": "code",
   "execution_count": 3,
   "outputs": [
    {
     "name": "stdout",
     "output_type": "stream",
     "text": [
      "<!DOCTYPE html>\n",
      "<html lang=\"en\">\n",
      "<head>\n",
      "    <meta charset=\"UTF-8\">\n",
      "    <title>Title</title>\n",
      "</head>\n",
      "<body>\n",
      "<ul>\n",
      "<li>Вадим\n",
      "<li>Олег\n",
      "<li>Егор\n",
      "<li>Василий\n",
      "<li>Анатолий\n",
      "</ul>\n",
      "</body>\n",
      "</html>\n"
     ]
    }
   ],
   "source": [
    "from jinja2 import Environment, FileSystemLoader\n",
    "\n",
    "persons = [\n",
    "    {'name': 'Вадим', 'old': 18, 'weight': 91},\n",
    "    {'name': 'Олег', 'old': 33, 'weight': 78},\n",
    "    {'name': 'Егор', 'old': 51, 'weight': 66},\n",
    "    {'name': 'Василий', 'old': 18, 'weight': 86},\n",
    "    {'name': 'Анатолий', 'old': 22, 'weight': 99},\n",
    "]\n",
    "\n",
    "file_loader = FileSystemLoader('templates')\n",
    "env = Environment(loader=file_loader)\n",
    "\n",
    "tm = env.get_template('main.html')\n",
    "msg = tm.render(users = persons)\n",
    "print(msg)"
   ],
   "metadata": {
    "collapsed": false,
    "pycharm": {
     "name": "#%%\n"
    }
   }
  },
  {
   "cell_type": "code",
   "execution_count": null,
   "outputs": [],
   "source": [],
   "metadata": {
    "collapsed": false,
    "pycharm": {
     "name": "#%%\n"
    }
   }
  }
 ],
 "metadata": {
  "kernelspec": {
   "display_name": "Python 3",
   "language": "python",
   "name": "python3"
  },
  "language_info": {
   "codemirror_mode": {
    "name": "ipython",
    "version": 2
   },
   "file_extension": ".py",
   "mimetype": "text/x-python",
   "name": "python",
   "nbconvert_exporter": "python",
   "pygments_lexer": "ipython2",
   "version": "2.7.6"
  }
 },
 "nbformat": 4,
 "nbformat_minor": 0
}