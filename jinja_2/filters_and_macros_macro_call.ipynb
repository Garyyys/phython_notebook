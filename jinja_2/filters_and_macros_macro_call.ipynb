{
 "cells": [
  {
   "cell_type": "code",
   "execution_count": 3,
   "outputs": [
    {
     "name": "stdout",
     "output_type": "stream",
     "text": [
      "Суммарная цена автомобилей Mercedes\n"
     ]
    }
   ],
   "source": [
    "from jinja2 import Template\n",
    "\n",
    "cars = [\n",
    "    {'model': 'Volvo', 'price': 45000},\n",
    "    {'model': 'Mercedes', 'price': 60000},\n",
    "    {'model': 'Lada', 'price': 6000},\n",
    "    {'model': 'Audi', 'price': 50000},\n",
    "]\n",
    "\n",
    "tpl = 'Суммарная цена автомобилей {{ (cs | max(attribute=\"price\")).model }}'\n",
    "tm = Template(tpl)\n",
    "msg = tm.render(cs=cars)\n",
    "\n",
    "print(msg)"
   ],
   "metadata": {
    "collapsed": false,
    "pycharm": {
     "name": "#%%\n"
    }
   }
  },
  {
   "cell_type": "markdown",
   "source": [
    "sum - вычисление суммы поля коллекции\n",
    "sum(iterable, attribute=None, start=0)"
   ],
   "metadata": {
    "collapsed": false,
    "pycharm": {
     "name": "#%% md\n"
    }
   }
  },
  {
   "cell_type": "code",
   "execution_count": 4,
   "outputs": [],
   "source": [
    "digs = [1, 2, 3, 4, 5]\n",
    "\n",
    "tpl = \"Сумма digs: {{ dg | sum }}\"\n",
    "tm = Template(tpl)\n",
    "msg = tm.render(dg=digs)"
   ],
   "metadata": {
    "collapsed": false,
    "pycharm": {
     "name": "#%%\n"
    }
   }
  },
  {
   "cell_type": "code",
   "execution_count": 5,
   "outputs": [
    {
     "name": "stdout",
     "output_type": "stream",
     "text": [
      "Сумма digs: 15\n"
     ]
    }
   ],
   "source": [
    "print(msg)"
   ],
   "metadata": {
    "collapsed": false,
    "pycharm": {
     "name": "#%%\n"
    }
   }
  },
  {
   "cell_type": "markdown",
   "source": [
    "Фильтров очень много\n",
    "https://jinja.palletsprojects.com/en/3.1.x/"
   ],
   "metadata": {
    "collapsed": false,
    "pycharm": {
     "name": "#%% md\n"
    }
   }
  },
  {
   "cell_type": "markdown",
   "source": [
    "Блок filter (применяет шаблон)\n",
    "\n",
    "{% filter <название фильтра> %}\n",
    "<фрагмент для применения фильтра>\n",
    "{% endfilter %}"
   ],
   "metadata": {
    "collapsed": false,
    "pycharm": {
     "name": "#%% md\n"
    }
   }
  },
  {
   "cell_type": "code",
   "execution_count": 5,
   "outputs": [
    {
     "name": "stdout",
     "output_type": "stream",
     "text": [
      " ВАДИМ \n",
      " ОЛЕГ \n",
      " ЕГОР \n",
      " ВАСИЛИЙ \n",
      " АНАТОЛИЙ \n",
      "\n"
     ]
    }
   ],
   "source": [
    "persons = [\n",
    "    {'name': 'Вадим', 'old': 18, 'weight': 91},\n",
    "    {'name': 'Олег', 'old': 33, 'weight': 78},\n",
    "    {'name': 'Егор', 'old': 51, 'weight': 66},\n",
    "    {'name': 'Василий', 'old': 18, 'weight': 86},\n",
    "    {'name': 'Анатолий', 'old': 22, 'weight': 99},\n",
    "]\n",
    "\n",
    "tpl = '''\n",
    "{%- for u in users -%}\n",
    "{% filter upper %} {{ u.name }} {% endfilter %}\n",
    "{% endfor %}\n",
    "'''\n",
    "tm = Template(tpl)\n",
    "msg = tm.render(users=persons)\n",
    "print(msg)"
   ],
   "metadata": {
    "collapsed": false,
    "pycharm": {
     "name": "#%%\n"
    }
   }
  },
  {
   "cell_type": "markdown",
   "source": [
    "Макроопределение:"
   ],
   "metadata": {
    "collapsed": false,
    "pycharm": {
     "name": "#%% md\n"
    }
   }
  },
  {
   "cell_type": "code",
   "execution_count": 10,
   "outputs": [
    {
     "name": "stdout",
     "output_type": "stream",
     "text": [
      "\n",
      "\n",
      "\n",
      "<p><input type=\"str\" name=\"username\" value=\"1\" size=\"20\">\n",
      "<p><input type=\"text\" name=\"email\" value=\"\" size=\"20\">\n",
      "<p><input type=\"text\" name=\"password\" value=\"\" size=\"20\">\n"
     ]
    }
   ],
   "source": [
    "html = \"\"\"\n",
    "{% macro input(name, value='', type='text', size=20) -%}\n",
    "    <input type=\"{{type}}\" name=\"{{name}}\" value=\"{{value | e}}\" size=\"{{size}}\">\n",
    "{%- endmacro %}\n",
    "\n",
    "<p>{{input('username', 1, 'str')}}\n",
    "<p>{{input('email')}}\n",
    "<p>{{input('password')}}\n",
    "\"\"\"\n",
    "\n",
    "tm = Template(html)\n",
    "msg = tm.render(users = persons)\n",
    "print(msg)"
   ],
   "metadata": {
    "collapsed": false,
    "pycharm": {
     "name": "#%%\n"
    }
   }
  },
  {
   "cell_type": "markdown",
   "source": [
    "Вложенный макрос - call\n",
    "{% call[(параметры)] <вызов макроса> %}\n",
    "<вложенный шаблон>\n",
    "{% endcall %}"
   ],
   "metadata": {
    "collapsed": false,
    "pycharm": {
     "name": "#%% md\n"
    }
   }
  },
  {
   "cell_type": "code",
   "execution_count": 14,
   "outputs": [
    {
     "name": "stdout",
     "output_type": "stream",
     "text": [
      "\n",
      "\n",
      "\n",
      "\n",
      "<ul>\n",
      "<li>Вадим\n",
      "<li>Олег\n",
      "<li>Егор\n",
      "<li>Василий\n",
      "<li>Анатолий\n",
      "</ul>\n"
     ]
    }
   ],
   "source": [
    "from jinja2 import Template\n",
    "\n",
    "persons = [\n",
    "    {'name': 'Вадим', 'old': 18, 'weight': 91},\n",
    "    {'name': 'Олег', 'old': 33, 'weight': 78},\n",
    "    {'name': 'Егор', 'old': 51, 'weight': 66},\n",
    "    {'name': 'Василий', 'old': 18, 'weight': 86},\n",
    "    {'name': 'Анатолий', 'old': 22, 'weight': 99},\n",
    "]\n",
    "\n",
    "html = \"\"\"\n",
    "{% macro list_users(list_of_users) %}\n",
    "<ul>\n",
    "{% for u in list_of_users -%}\n",
    "    <li>{{ u.name }}\n",
    "{% endfor -%}\n",
    "</ul>\n",
    "{%- endmacro %}\n",
    "\n",
    "{{ list_users(users) }}\n",
    "\"\"\"\n",
    "\n",
    "tm = Template(html)\n",
    "msg = tm.render(users=persons)\n",
    "print(msg)\n"
   ],
   "metadata": {
    "collapsed": false,
    "pycharm": {
     "name": "#%%\n"
    }
   }
  },
  {
   "cell_type": "markdown",
   "source": [
    "В вложенным запросом"
   ],
   "metadata": {
    "collapsed": false,
    "pycharm": {
     "name": "#%% md\n"
    }
   }
  },
  {
   "cell_type": "code",
   "execution_count": null,
   "outputs": [],
   "source": [
    "from jinja2 import Template\n",
    "\n",
    "persons = [\n",
    "    {'name': 'Вадим', 'old': 18, 'weight': 91},\n",
    "    {'name': 'Олег', 'old': 33, 'weight': 78},\n",
    "    {'name': 'Егор', 'old': 51, 'weight': 66},\n",
    "    {'name': 'Василий', 'old': 18, 'weight': 86},\n",
    "    {'name': 'Анатолий', 'old': 22, 'weight': 99},\n",
    "]\n",
    "\n",
    "html = \"\"\"\n",
    "{% macro list_users(list_of_users) %}\n",
    "<ul>\n",
    "{% for u in list_of_users -%}\n",
    "    <li>{{ u.name }}\n",
    "{% endfor -%}\n",
    "</ul>\n",
    "{%- endmacro %}\n",
    "\n",
    "{{ list_users(users) }}\n",
    "\"\"\"\n",
    "\n",
    "tm = Template(html)\n",
    "msg = tm.render(users=persons)\n",
    "print(msg)\n"
   ],
   "metadata": {
    "collapsed": false,
    "pycharm": {
     "name": "#%%\n"
    }
   }
  },
  {
   "cell_type": "markdown",
   "source": [
    "{% call[(параметры)]<вызов макроса> %} - вложенный шаблон\n",
    "<вложенный шаблон>\n",
    "{% endcall %}"
   ],
   "metadata": {
    "collapsed": false,
    "pycharm": {
     "name": "#%% md\n"
    }
   }
  },
  {
   "cell_type": "code",
   "execution_count": 4,
   "outputs": [
    {
     "name": "stdout",
     "output_type": "stream",
     "text": [
      "\n",
      "\n",
      "\n",
      "\n",
      "<ul>\n",
      "<li>Вадим \n",
      "<ul>\n",
      "<li>age: \n",
      "<li>weight: 91\n",
      "</ul>\n",
      "\n",
      "<li>Олег \n",
      "<ul>\n",
      "<li>age: \n",
      "<li>weight: 78\n",
      "</ul>\n",
      "\n",
      "<li>Егор \n",
      "<ul>\n",
      "<li>age: \n",
      "<li>weight: 66\n",
      "</ul>\n",
      "\n",
      "<li>Василий \n",
      "<ul>\n",
      "<li>age: \n",
      "<li>weight: 86\n",
      "</ul>\n",
      "\n",
      "<li>Анатолий \n",
      "<ul>\n",
      "<li>age: \n",
      "<li>weight: 99\n",
      "</ul>\n",
      "\n",
      "</ul>\n"
     ]
    }
   ],
   "source": [
    "from jinja2 import Template\n",
    "\n",
    "persons = [\n",
    "    {'name': 'Вадим', 'old': 18, 'weight': 91},\n",
    "    {'name': 'Олег', 'old': 33, 'weight': 78},\n",
    "    {'name': 'Егор', 'old': 51, 'weight': 66},\n",
    "    {'name': 'Василий', 'old': 18, 'weight': 86},\n",
    "    {'name': 'Анатолий', 'old': 22, 'weight': 99},\n",
    "]\n",
    "\n",
    "html = \"\"\"\n",
    "{% macro list_users(list_of_users) %}\n",
    "<ul>\n",
    "{% for u in list_of_users -%}\n",
    "    <li>{{ u.name }} {{ caller(u)}}\n",
    "{% endfor -%}\n",
    "</ul>\n",
    "{%- endmacro %}\n",
    "\n",
    "{% call(user) list_users(users) %}\n",
    "<ul>\n",
    "<li>age: {{user.age}}\n",
    "<li>weight: {{ user.weight }}\n",
    "</ul>\n",
    "{% endcall -%}\n",
    "\"\"\"\n",
    "\n",
    "tm = Template(html)\n",
    "msg = tm.render(users=persons)\n",
    "print(msg)"
   ],
   "metadata": {
    "collapsed": false,
    "pycharm": {
     "name": "#%%\n"
    }
   }
  },
  {
   "cell_type": "markdown",
   "source": [],
   "metadata": {
    "collapsed": false,
    "pycharm": {
     "name": "#%% md\n"
    }
   }
  }
 ],
 "metadata": {
  "kernelspec": {
   "display_name": "Python 3",
   "language": "python",
   "name": "python3"
  },
  "language_info": {
   "codemirror_mode": {
    "name": "ipython",
    "version": 2
   },
   "file_extension": ".py",
   "mimetype": "text/x-python",
   "name": "python",
   "nbconvert_exporter": "python",
   "pygments_lexer": "ipython2",
   "version": "2.7.6"
  }
 },
 "nbformat": 4,
 "nbformat_minor": 0
}