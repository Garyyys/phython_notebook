{
 "cells": [
  {
   "cell_type": "code",
   "execution_count": 19,
   "outputs": [],
   "source": [
    "from jinja2 import Template\n",
    "\n",
    "data = \"\"\"{% raw %}\n",
    "Модуль jinja2 вместо\n",
    "определния {{ name }}\n",
    "подставляет соотвествующее значение {% endraw %}\"\"\"\n",
    "# e - экранирование в jinja\n",
    "tm = Template(data)\n",
    "msg = tm.render(name='Федор')"
   ],
   "metadata": {
    "collapsed": false,
    "pycharm": {
     "name": "#%%\n"
    }
   }
  },
  {
   "cell_type": "code",
   "execution_count": 5,
   "outputs": [
    {
     "name": "stdout",
     "output_type": "stream",
     "text": [
      "\n",
      "Модуль jinja2 вместо\n",
      "определния {{ name }}\n",
      "подставляет соотвествующее значение \n"
     ]
    }
   ],
   "source": [
    "print(msg)"
   ],
   "metadata": {
    "collapsed": false,
    "pycharm": {
     "name": "#%%\n"
    }
   }
  },
  {
   "cell_type": "code",
   "execution_count": 8,
   "outputs": [],
   "source": [
    "# e - экранирование в jinja\n",
    "\n",
    "link = \"\"\"В HTML-документе ссылки определяются так: <a href=\"#\">Ссылка</a>\"\"\"\n",
    "tm = Template(\"{{ link | e }}\")\n",
    "msg = tm.render(link=link)"
   ],
   "metadata": {
    "collapsed": false,
    "pycharm": {
     "name": "#%%\n"
    }
   }
  },
  {
   "cell_type": "code",
   "execution_count": 9,
   "outputs": [
    {
     "name": "stdout",
     "output_type": "stream",
     "text": [
      "В HTML-документе ссылки определяются так: &lt;a href=&#34;#&#34;&gt;Ссылка&lt;/a&gt;\n"
     ]
    }
   ],
   "source": [
    "print(msg)"
   ],
   "metadata": {
    "collapsed": false,
    "pycharm": {
     "name": "#%%\n"
    }
   }
  },
  {
   "cell_type": "code",
   "execution_count": 18,
   "outputs": [
    {
     "ename": "AttributeError",
     "evalue": "module 'jinja2' has no attribute 'escape'",
     "output_type": "error",
     "traceback": [
      "\u001B[0;31m---------------------------------------------------------------------------\u001B[0m",
      "\u001B[0;31mAttributeError\u001B[0m                            Traceback (most recent call last)",
      "Input \u001B[0;32mIn [18]\u001B[0m, in \u001B[0;36m<cell line: 4>\u001B[0;34m()\u001B[0m\n\u001B[1;32m      2\u001B[0m \u001B[38;5;28;01mimport\u001B[39;00m \u001B[38;5;21;01mjinja2\u001B[39;00m\n\u001B[1;32m      3\u001B[0m link \u001B[38;5;241m=\u001B[39m \u001B[38;5;124m\"\"\"\u001B[39m\u001B[38;5;124mВ HTML-документе ссылки определяются так: <a href=\u001B[39m\u001B[38;5;124m\"\u001B[39m\u001B[38;5;124m#\u001B[39m\u001B[38;5;124m\"\u001B[39m\u001B[38;5;124m>Ссылка</a>\u001B[39m\u001B[38;5;124m\"\"\"\u001B[39m\n\u001B[0;32m----> 4\u001B[0m msg \u001B[38;5;241m=\u001B[39m \u001B[43mjinja2\u001B[49m\u001B[38;5;241;43m.\u001B[39;49m\u001B[43mescape\u001B[49m(link)\n",
      "\u001B[0;31mAttributeError\u001B[0m: module 'jinja2' has no attribute 'escape'"
     ]
    }
   ],
   "source": [
    "# e - экранирование в jinja\n",
    "import jinja2\n",
    "\n",
    "link = \"\"\"В HTML-документе ссылки определяются так: <a href=\"#\">Ссылка</a>\"\"\"\n",
    "msg = jinja2.escape(link)  #< - не работает, данного метода нету"
   ],
   "metadata": {
    "collapsed": false,
    "pycharm": {
     "name": "#%%\n"
    }
   }
  },
  {
   "cell_type": "markdown",
   "source": [
    "Цикл for\n",
    "{% for i in range(10) %}\n",
    "{% endfor %}"
   ],
   "metadata": {
    "collapsed": false,
    "pycharm": {
     "name": "#%% md\n"
    }
   }
  },
  {
   "cell_type": "code",
   "execution_count": 24,
   "outputs": [
    {
     "name": "stdout",
     "output_type": "stream",
     "text": [
      "<select name=\"cities\">\n",
      "<option value=\"7>Бресит</option>\n",
      "<option value=\"8>Могилев</option>\n",
      "<option value=\"11>Витебск</option>\n",
      "<option value=\"12>Слуцк</option>\n",
      "</select>\n"
     ]
    }
   ],
   "source": [
    "cities = [\n",
    "    {'id': 1, 'city': 'Москва'},\n",
    "    {'id': 5, 'city': 'Тверь'},\n",
    "    {'id': 7, 'city': 'Бресит'},\n",
    "    {'id': 8, 'city': 'Могилев'},\n",
    "    {'id': 11, 'city': 'Витебск'},\n",
    "    {'id': 12, 'city': 'Слуцк'},\n",
    "]\n",
    "\n",
    "link = \"\"\"<select name=\"cities\">\n",
    "{% for c in cities -%}\n",
    "{% if c.id > 6 -%}\n",
    "    <option value=\"{{c['id']}}>{{c['city']}}</option>\n",
    "{% endif -%}\n",
    "{% endfor -%}\n",
    "</select>\"\"\"\n",
    "\n",
    "tm = Template(link)\n",
    "msg = tm.render(cities=cities)\n",
    "print(msg)"
   ],
   "metadata": {
    "collapsed": false,
    "pycharm": {
     "name": "#%%\n"
    }
   }
  },
  {
   "cell_type": "markdown",
   "source": [
    " if конструкция:\n",
    "{% if <условие> %}\n",
    "    <фрагмент при истинности условия>\n",
    "{% elif %}\n",
    "{% else %}\n",
    "{% endif %}"
   ],
   "metadata": {
    "collapsed": false,
    "pycharm": {
     "name": "#%% md\n"
    }
   }
  },
  {
   "cell_type": "code",
   "execution_count": null,
   "outputs": [],
   "source": [],
   "metadata": {
    "collapsed": false,
    "pycharm": {
     "name": "#%%\n"
    }
   }
  }
 ],
 "metadata": {
  "kernelspec": {
   "display_name": "Python 3",
   "language": "python",
   "name": "python3"
  },
  "language_info": {
   "codemirror_mode": {
    "name": "ipython",
    "version": 2
   },
   "file_extension": ".py",
   "mimetype": "text/x-python",
   "name": "python",
   "nbconvert_exporter": "python",
   "pygments_lexer": "ipython2",
   "version": "2.7.6"
  }
 },
 "nbformat": 4,
 "nbformat_minor": 0
}