{
 "cells": [
  {
   "cell_type": "code",
   "execution_count": 1,
   "outputs": [
    {
     "name": "stdout",
     "output_type": "stream",
     "text": [
      "Привет Федор\n"
     ]
    }
   ],
   "source": [
    "import jinja2\n",
    "\n",
    "\"\"\"jinja это шаблонизатор\"\"\"\n",
    "\n",
    "from jinja2 import Template\n",
    "\n",
    "name = \"Федор\"\n",
    "tm = Template(\"Привет {{name}}\")  #<- формируем шаблон\n",
    "msg = tm.render(name=name)  # <- возвращает готовую строку\n",
    "print(msg)"
   ],
   "metadata": {
    "collapsed": false,
    "pycharm": {
     "name": "#%%\n"
    }
   }
  },
  {
   "cell_type": "markdown",
   "source": [
    "{% %} - спецификатор шаблона\n",
    "{{ }} - выражение для вставки конструкций Python в шаблон\n",
    "{# #} - блок комментария\n",
    "# # ## - строковый комментарий"
   ],
   "metadata": {
    "collapsed": false,
    "pycharm": {
     "name": "#%% md\n"
    }
   }
  },
  {
   "cell_type": "code",
   "execution_count": 3,
   "outputs": [
    {
     "name": "stdout",
     "output_type": "stream",
     "text": [
      "Мне 25 лет и зовут Дима\n"
     ]
    }
   ],
   "source": [
    "name = \"Дима\"\n",
    "age = 25\n",
    "\n",
    "tm = Template(\"Мне {{ a }} лет и зовут {{ n }}\")  #<- формируем шаблон\n",
    "msg = tm.render(n=name, a=age)  # <- возвращает готовую строку (воспринимается как словарь по ключу и значению)\n",
    "print(msg)"
   ],
   "metadata": {
    "collapsed": false,
    "pycharm": {
     "name": "#%%\n"
    }
   }
  },
  {
   "cell_type": "code",
   "execution_count": 11,
   "outputs": [
    {
     "name": "stdout",
     "output_type": "stream",
     "text": [
      "Всем привет, меня зовут Дима и мне 25\n"
     ]
    }
   ],
   "source": [
    "# class Person:\n",
    "#     def __init__(self, name, age):\n",
    "#         self.name = name\n",
    "#         self.age = age\n",
    "#\n",
    "#\n",
    "# p = Person('Дима', 25)\n",
    "p = {'name': 'Дима', 'age': 25}\n",
    "\n",
    "# tm = Template('Всем привет, меня зовут {{ name }} и мне {{ age }}') <- в шаблон можно вставлять любые кострукции языка\n",
    "# tm = Template('Всем привет, меня зовут {{ p.name }} и мне {{ p.age }}')\n",
    "tm = Template('Всем привет, меня зовут {{ p[\"name\"] }} и мне {{ p[\"age\"] }}')\n",
    "msg = tm.render(p=p)\n",
    "print(msg)"
   ],
   "metadata": {
    "collapsed": false,
    "pycharm": {
     "name": "#%%\n"
    }
   }
  },
  {
   "cell_type": "code",
   "execution_count": null,
   "outputs": [],
   "source": [],
   "metadata": {
    "collapsed": false,
    "pycharm": {
     "name": "#%%\n"
    }
   }
  }
 ],
 "metadata": {
  "kernelspec": {
   "display_name": "Python 3",
   "language": "python",
   "name": "python3"
  },
  "language_info": {
   "codemirror_mode": {
    "name": "ipython",
    "version": 2
   },
   "file_extension": ".py",
   "mimetype": "text/x-python",
   "name": "python",
   "nbconvert_exporter": "python",
   "pygments_lexer": "ipython2",
   "version": "2.7.6"
  }
 },
 "nbformat": 4,
 "nbformat_minor": 0
}