{
 "cells": [
  {
   "cell_type": "code",
   "execution_count": 1,
   "outputs": [],
   "source": [
    "\"\"\"Метакласс является вершиной объектов - конструктор классов\"\"\"\n",
    "\n",
    "class Point:\n",
    "    MAX_COORD = 100\n",
    "    MIN_COORD = 0"
   ],
   "metadata": {
    "collapsed": false,
    "pycharm": {
     "name": "#%%\n"
    }
   }
  },
  {
   "cell_type": "code",
   "execution_count": 2,
   "outputs": [],
   "source": [
    "A = type('Point', (), {'MAX_COORD': 100, 'MIN_COORD': 0}) #создание класса через type"
   ],
   "metadata": {
    "collapsed": false,
    "pycharm": {
     "name": "#%%\n"
    }
   }
  },
  {
   "cell_type": "code",
   "execution_count": 3,
   "outputs": [],
   "source": [
    "pt = A()"
   ],
   "metadata": {
    "collapsed": false,
    "pycharm": {
     "name": "#%%\n"
    }
   }
  },
  {
   "cell_type": "code",
   "execution_count": 5,
   "outputs": [
    {
     "data": {
      "text/plain": "100"
     },
     "execution_count": 5,
     "metadata": {},
     "output_type": "execute_result"
    }
   ],
   "source": [
    "pt.__dict__\n",
    "pt.MAX_COORD"
   ],
   "metadata": {
    "collapsed": false,
    "pycharm": {
     "name": "#%%\n"
    }
   }
  },
  {
   "cell_type": "code",
   "execution_count": 8,
   "outputs": [],
   "source": [
    "class B1:\n",
    "    pass\n",
    "\n",
    "\n",
    "class B2:\n",
    "    pass\n",
    "\n",
    "\n",
    "A = type('Point', (B1, B2), {'MAX_COORD': 100, 'MIN_COORD': 0}) # наследование происходит через тупл"
   ],
   "metadata": {
    "collapsed": false,
    "pycharm": {
     "name": "#%%\n"
    }
   }
  },
  {
   "cell_type": "code",
   "execution_count": 7,
   "outputs": [
    {
     "data": {
      "text/plain": "(__main__.Point, __main__.B1, __main__.B2, object)"
     },
     "execution_count": 7,
     "metadata": {},
     "output_type": "execute_result"
    }
   ],
   "source": [
    "A.__mro__"
   ],
   "metadata": {
    "collapsed": false,
    "pycharm": {
     "name": "#%%\n"
    }
   }
  },
  {
   "cell_type": "markdown",
   "source": [
    "Так же как и атрибуты, при создании класса через type можно задавать и методы классов"
   ],
   "metadata": {
    "collapsed": false,
    "pycharm": {
     "name": "#%% md\n"
    }
   }
  },
  {
   "cell_type": "code",
   "execution_count": 11,
   "outputs": [],
   "source": [
    "def method1(self):\n",
    "    print(self.__dict__)\n",
    "\n",
    "A = type('Point', (B1, B2), {\n",
    "    'MAX_COORD': 100,\n",
    "    'method1': method1, # lambda так же может быть тут в качестве значения ключа\n",
    "})"
   ],
   "metadata": {
    "collapsed": false,
    "pycharm": {
     "name": "#%%\n"
    }
   }
  },
  {
   "cell_type": "code",
   "execution_count": 12,
   "outputs": [],
   "source": [
    "pt = A()"
   ],
   "metadata": {
    "collapsed": false,
    "pycharm": {
     "name": "#%%\n"
    }
   }
  },
  {
   "cell_type": "code",
   "execution_count": 13,
   "outputs": [
    {
     "name": "stdout",
     "output_type": "stream",
     "text": [
      "{}\n"
     ]
    }
   ],
   "source": [
    "pt.method1()"
   ],
   "metadata": {
    "collapsed": false,
    "pycharm": {
     "name": "#%%\n"
    }
   }
  },
  {
   "cell_type": "markdown",
   "source": [
    "Свои метакласс:"
   ],
   "metadata": {
    "collapsed": false,
    "pycharm": {
     "name": "#%% md\n"
    }
   }
  },
  {
   "cell_type": "code",
   "execution_count": null,
   "outputs": [],
   "source": [
    "def create_class_point(name, base, attrs): #<- простейший метакласс с помощью функции\n",
    "    attrs.update({'MAX_COORD': 100, 'MIN_COORD': 0}) #<- задает атрибуты поумолчанию\n",
    "    return type(name, base, attrs)\n",
    "\n",
    "\n",
    "class Point(metaclass=create_class_point):\n",
    "    def get_coord(self):\n",
    "        return (0, 0)\n",
    "\n",
    "pt = Point()\n",
    "print(pt.MAX_COORD)\n",
    "print(pt.get_coord())"
   ],
   "metadata": {
    "collapsed": false,
    "pycharm": {
     "name": "#%%\n",
     "is_executing": true
    }
   }
  },
  {
   "cell_type": "code",
   "execution_count": 2,
   "outputs": [
    {
     "name": "stdout",
     "output_type": "stream",
     "text": [
      "100\n",
      "(0, 0)\n"
     ]
    }
   ],
   "source": [
    "class Meta(type):\n",
    "    def __new__(cls, name, base, attrs): # тоже самое как и при инит\n",
    "        attrs.update({'MAX_COORD': 100, 'MIN_COORD': 0})\n",
    "        return type.__new__(cls, name, base, attrs)\n",
    "\n",
    "    # def __init__(cls, name, base, attrs):\n",
    "    #     super().__init__(name, base, attrs) #<- делегируем из type\n",
    "    #     cls.MAX_COORD = 100\n",
    "    #     cls.MIN_COORD = 0\n",
    "\n",
    "\n",
    "class Point(metaclass=Meta):\n",
    "    def get_coord(self):\n",
    "        return (0, 0)\n",
    "\n",
    "pt = Point()\n",
    "print(pt.MAX_COORD)\n",
    "print(pt.get_coord())"
   ],
   "metadata": {
    "collapsed": false,
    "pycharm": {
     "name": "#%%\n"
    }
   }
  },
  {
   "cell_type": "code",
   "execution_count": null,
   "outputs": [],
   "source": [],
   "metadata": {
    "collapsed": false,
    "pycharm": {
     "name": "#%%\n"
    }
   }
  }
 ],
 "metadata": {
  "kernelspec": {
   "display_name": "Python 3",
   "language": "python",
   "name": "python3"
  },
  "language_info": {
   "codemirror_mode": {
    "name": "ipython",
    "version": 2
   },
   "file_extension": ".py",
   "mimetype": "text/x-python",
   "name": "python",
   "nbconvert_exporter": "python",
   "pygments_lexer": "ipython2",
   "version": "2.7.6"
  }
 },
 "nbformat": 4,
 "nbformat_minor": 0
}