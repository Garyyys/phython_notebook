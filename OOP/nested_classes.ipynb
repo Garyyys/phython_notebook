{
 "cells": [
  {
   "cell_type": "code",
   "execution_count": 8,
   "outputs": [],
   "source": [
    "class Women:\n",
    "    title = 'объект класса для поля title'\n",
    "    photo = 'объект класса для поля photo'\n",
    "    ordering = 'объект класса для поля photo'\n",
    "\n",
    "    def __init__(self, user, psw):\n",
    "        self.user = user\n",
    "        self.psw = psw\n",
    "        self.meta = self.Meta(user + '@' + psw) #<- явно указываем на создание экземпляра класса мета внутри Women\n",
    "\n",
    "    \"\"\"meta classes служит для удобства программирования\"\"\"\n",
    "    class Meta:  #<- формирует независимое пространство имен от класса Women\n",
    "        ordering = ['id']\n",
    "\n",
    "        def __init__(self, access):\n",
    "            self.access = access\n",
    "            self._t = Women.title"
   ],
   "metadata": {
    "collapsed": false,
    "pycharm": {
     "name": "#%%\n"
    }
   }
  },
  {
   "cell_type": "code",
   "execution_count": 2,
   "outputs": [
    {
     "name": "stdout",
     "output_type": "stream",
     "text": [
      "объект класса для поля photo\n"
     ]
    }
   ],
   "source": [
    "print(Women.ordering)"
   ],
   "metadata": {
    "collapsed": false,
    "pycharm": {
     "name": "#%%\n"
    }
   }
  },
  {
   "cell_type": "code",
   "execution_count": 3,
   "outputs": [
    {
     "name": "stdout",
     "output_type": "stream",
     "text": [
      "['id']\n"
     ]
    }
   ],
   "source": [
    "print(Women.Meta.ordering)"
   ],
   "metadata": {
    "collapsed": false,
    "pycharm": {
     "name": "#%%\n"
    }
   }
  },
  {
   "cell_type": "code",
   "execution_count": 9,
   "outputs": [
    {
     "name": "stdout",
     "output_type": "stream",
     "text": [
      "{'__module__': '__main__', 'title': 'объект класса для поля title', 'photo': 'объект класса для поля photo', 'ordering': 'объект класса для поля photo', '__init__': <function Women.__init__ at 0x7f7a1c718820>, 'Meta': <class '__main__.Women.Meta'>, '__dict__': <attribute '__dict__' of 'Women' objects>, '__weakref__': <attribute '__weakref__' of 'Women' objects>, '__doc__': None}\n",
      "\n",
      "{'user': 'Анджелика', 'psw': 'alsow123', 'meta': <__main__.Women.Meta object at 0x7f7a1e0f36a0>}\n"
     ]
    }
   ],
   "source": [
    "w = Women('Анджелика', 'alsow123') #<- создается объек класса Women, но не Meta\n",
    "print(Women.__dict__)\n",
    "print()\n",
    "print(w.__dict__)"
   ],
   "metadata": {
    "collapsed": false,
    "pycharm": {
     "name": "#%%\n"
    }
   }
  },
  {
   "cell_type": "code",
   "execution_count": 7,
   "outputs": [
    {
     "name": "stdout",
     "output_type": "stream",
     "text": [
      "{'__module__': '__main__', 'ordering': ['id'], '__init__': <function Women.Meta.__init__ at 0x7f7a1e091090>, '__dict__': <attribute '__dict__' of 'Meta' objects>, '__weakref__': <attribute '__weakref__' of 'Meta' objects>, '__doc__': None}\n"
     ]
    }
   ],
   "source": [
    "print(Women.Meta.__dict__)"
   ],
   "metadata": {
    "collapsed": false,
    "pycharm": {
     "name": "#%%\n"
    }
   }
  },
  {
   "cell_type": "code",
   "execution_count": 10,
   "outputs": [
    {
     "name": "stdout",
     "output_type": "stream",
     "text": [
      "{'access': 'Анджелика@alsow123', '_t': 'объект класса для поля title'}\n"
     ]
    }
   ],
   "source": [
    "print(w.meta.__dict__)"
   ],
   "metadata": {
    "collapsed": false,
    "pycharm": {
     "name": "#%%\n"
    }
   }
  },
  {
   "cell_type": "code",
   "execution_count": null,
   "outputs": [],
   "source": [],
   "metadata": {
    "collapsed": false,
    "pycharm": {
     "name": "#%%\n"
    }
   }
  }
 ],
 "metadata": {
  "kernelspec": {
   "display_name": "Python 3",
   "language": "python",
   "name": "python3"
  },
  "language_info": {
   "codemirror_mode": {
    "name": "ipython",
    "version": 2
   },
   "file_extension": ".py",
   "mimetype": "text/x-python",
   "name": "python",
   "nbconvert_exporter": "python",
   "pygments_lexer": "ipython2",
   "version": "2.7.6"
  }
 },
 "nbformat": 4,
 "nbformat_minor": 0
}