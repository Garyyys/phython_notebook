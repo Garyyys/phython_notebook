{
 "cells": [
  {
   "cell_type": "code",
   "execution_count": 5,
   "outputs": [],
   "source": [
    "class Student:\n",
    "    def __init__(self, name, marks):\n",
    "        self.name = name\n",
    "        self.marks = list(marks)\n",
    "\n",
    "    def __getitem__(self, item): #<- дает возможность обращаться к атрибутам класса как к ключам словаря\n",
    "        if 0<= item <= len(self.marks):\n",
    "            print(\"__getitem__\")\n",
    "            return self.marks[item]\n",
    "        else:\n",
    "            raise IndexError(\"Неверный индекс\")\n",
    "\n",
    "    def __setitem__(self, key, value):\n",
    "        print('setitem')\n",
    "        if not isinstance(key, int) or key < 0:\n",
    "            raise TypeError(\"Индекс должен быть целым неотрицательным числом\")\n",
    "        if key >= len(self.marks):\n",
    "            off =key + 1 - len(self.marks)\n",
    "            self.marks.extend([None]*off)\n",
    "        self.marks[key] = value\n",
    "\n",
    "    def __delitem__(self, key):\n",
    "        if not isinstance(key, int) or key < 0:\n",
    "            raise TypeError(\"Индекс должен быть целым неотрицательным числом\")\n",
    "\n",
    "        del self.marks[key]"
   ],
   "metadata": {
    "collapsed": false,
    "pycharm": {
     "name": "#%%\n"
    }
   }
  },
  {
   "cell_type": "code",
   "execution_count": 6,
   "outputs": [
    {
     "name": "stdout",
     "output_type": "stream",
     "text": [
      "4\n",
      "__getitem__\n",
      "4\n",
      "setitem\n",
      "__getitem__\n",
      "Happy\n"
     ]
    }
   ],
   "source": [
    "s1 = Student(\"Димас\", [2, 3, 4, 5])\n",
    "print(s1.marks[2])\n",
    "print(s1[2]) #<-пример отработки __getitem__\n",
    "s1[3] = \"Happy\"\n",
    "print(s1[3])"
   ],
   "metadata": {
    "collapsed": false,
    "pycharm": {
     "name": "#%%\n"
    }
   }
  },
  {
   "cell_type": "code",
   "execution_count": null,
   "outputs": [],
   "source": [],
   "metadata": {
    "collapsed": false,
    "pycharm": {
     "name": "#%%\n"
    }
   }
  }
 ],
 "metadata": {
  "kernelspec": {
   "display_name": "Python 3",
   "language": "python",
   "name": "python3"
  },
  "language_info": {
   "codemirror_mode": {
    "name": "ipython",
    "version": 2
   },
   "file_extension": ".py",
   "mimetype": "text/x-python",
   "name": "python",
   "nbconvert_exporter": "python",
   "pygments_lexer": "ipython2",
   "version": "2.7.6"
  }
 },
 "nbformat": 4,
 "nbformat_minor": 0
}