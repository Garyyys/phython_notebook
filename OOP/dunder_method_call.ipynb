{
 "cells": [
  {
   "cell_type": "code",
   "execution_count": 5,
   "outputs": [],
   "source": [
    "class Counter:\n",
    "    def __init__(self):\n",
    "        self.__counter = 0\n",
    "\n",
    "    def __call__(self, *args, **kwargs):\n",
    "        print(\"__call__\")\n",
    "        self.__counter += 1\n",
    "        return self.__counter"
   ],
   "metadata": {
    "collapsed": false,
    "pycharm": {
     "name": "#%%\n"
    }
   }
  },
  {
   "cell_type": "code",
   "execution_count": 3,
   "outputs": [],
   "source": [
    "c = Counter() #<- оператор вызова класса или функции. Вместе с ним запускается метод call"
   ],
   "metadata": {
    "collapsed": false,
    "pycharm": {
     "name": "#%%\n"
    }
   }
  },
  {
   "cell_type": "code",
   "execution_count": 4,
   "outputs": [
    {
     "name": "stdout",
     "output_type": "stream",
     "text": [
      "{'_Counter__counter': 0}\n"
     ]
    }
   ],
   "source": [
    "print(c.__dict__)"
   ],
   "metadata": {
    "collapsed": false,
    "pycharm": {
     "name": "#%%\n"
    }
   }
  },
  {
   "cell_type": "code",
   "execution_count": 1,
   "outputs": [],
   "source": [
    "\"\"\"Посути с методом call мы делаем класс вызываемым объектом, что дает возможность нам делать класс - декоратор функции\"\"\"\n",
    "class Test:\n",
    "    def __init__(self, func):\n",
    "        self._counter = 0\n",
    "        self._func = func\n",
    "\n",
    "    def __call__(self, x, y, *args, **kwargs):\n",
    "        self._counter +=1\n",
    "        # print(f\"Функция была вызвана {self._counter} раз\")\n",
    "        return self._func(x, y), self._counter"
   ],
   "metadata": {
    "collapsed": false,
    "pycharm": {
     "name": "#%%\n"
    }
   }
  },
  {
   "cell_type": "code",
   "execution_count": null,
   "outputs": [],
   "source": [
    "@Test\n",
    "def sm(x, y):\n",
    "    # var = sm.__name__\n",
    "    return f'{x} + {y} равно {x+y}'\n",
    "\n",
    "@Test\n",
    "def sm1(x, y):\n",
    "    # var = sm.__name__\n",
    "    return f'{x} * {y} равно {x*y}'\n",
    "\n",
    "print(sm(3,3))\n",
    "print(sm(3,3))\n",
    "print(sm(3,3))\n",
    "print('################')\n",
    "print(sm1(2, 2))\n",
    "print(sm1(2, 2))"
   ],
   "metadata": {
    "collapsed": false,
    "pycharm": {
     "name": "#%%\n"
    }
   }
  }
 ],
 "metadata": {
  "kernelspec": {
   "display_name": "Python 3",
   "language": "python",
   "name": "python3"
  },
  "language_info": {
   "codemirror_mode": {
    "name": "ipython",
    "version": 2
   },
   "file_extension": ".py",
   "mimetype": "text/x-python",
   "name": "python",
   "nbconvert_exporter": "python",
   "pygments_lexer": "ipython2",
   "version": "2.7.6"
  }
 },
 "nbformat": 4,
 "nbformat_minor": 0
}