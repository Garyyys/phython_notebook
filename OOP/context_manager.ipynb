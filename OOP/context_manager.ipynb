{
 "cells": [
  {
   "cell_type": "code",
   "execution_count": 1,
   "outputs": [],
   "source": [
    "fp = None\n",
    "\n",
    "try:\n",
    "    fp = open('myfile.txt')\n",
    "    for t in fp:\n",
    "        print(t)\n",
    "except Exception as e:\n",
    "    print(e)\n",
    "finally:\n",
    "    if fp is not None:\n",
    "        fp.close()"
   ],
   "metadata": {
    "collapsed": false,
    "pycharm": {
     "name": "#%%\n"
    }
   }
  },
  {
   "cell_type": "code",
   "execution_count": null,
   "outputs": [],
   "source": [
    "fp = None\n",
    "\n",
    "try:\n",
    "    with open('myfile.txt') as f: #<- когда with завершается, файловый поток автоматически закрывается, вне зависимости от отработки\n",
    "        for t in f:# после отработки всего, что внутри with отрабатывает метод __exit__ даже если есть исключения\n",
    "            print(t)\n",
    "except Exception as e:\n",
    "    print(e)"
   ],
   "metadata": {
    "collapsed": false,
    "pycharm": {
     "name": "#%%\n"
    }
   }
  },
  {
   "cell_type": "markdown",
   "source": [
    "Менеджер контекста это класс у которого есть дандеры:\n",
    "\\__enter__() - срабатывает в момент создания менеджера контекста\n",
    "\\__exit__() - срабатывает в момент завершения работы менеджера контекста или возникновения исключения"
   ],
   "metadata": {
    "collapsed": false,
    "pycharm": {
     "name": "#%% md\n"
    }
   }
  },
  {
   "cell_type": "markdown",
   "source": [
    "with <менеджер контекста> as <переменная>:\n",
    "    список кострукций"
   ],
   "metadata": {
    "collapsed": false,
    "pycharm": {
     "name": "#%% md\n"
    }
   }
  },
  {
   "cell_type": "code",
   "execution_count": 5,
   "outputs": [],
   "source": [
    "v1 = [1, 2, 3]\n",
    "v2 = [2, 3]\n",
    "\n",
    "class DefenderVector:\n",
    "    def __init__(self, v):\n",
    "        self.__v = v\n",
    "\n",
    "    def __enter__(self):\n",
    "        self.__temp = self.__v[:]\n",
    "        return self.__temp\n",
    "\n",
    "    def __exit__(self, exc_type, exc_val, exc_tb):\n",
    "        if exc_type is None:\n",
    "            self.__v[:] = self.__temp\n",
    "\n",
    "        return False"
   ],
   "metadata": {
    "collapsed": false,
    "pycharm": {
     "name": "#%%\n"
    }
   }
  },
  {
   "cell_type": "code",
   "execution_count": 12,
   "outputs": [
    {
     "name": "stdout",
     "output_type": "stream",
     "text": [
      "[1, 2, 3]\n"
     ]
    }
   ],
   "source": [
    "try:\n",
    "    with DefenderVector(v1) as dv:\n",
    "        for i, a in enumerate(dv):\n",
    "            dv[i] += v2[i]\n",
    "except:\n",
    "    IndexError('Неверные значения')\n",
    "\n",
    "print(v1)"
   ],
   "metadata": {
    "collapsed": false,
    "pycharm": {
     "name": "#%%\n"
    }
   }
  },
  {
   "cell_type": "code",
   "execution_count": null,
   "outputs": [],
   "source": [],
   "metadata": {
    "collapsed": false,
    "pycharm": {
     "name": "#%%\n"
    }
   }
  }
 ],
 "metadata": {
  "kernelspec": {
   "display_name": "Python 3",
   "language": "python",
   "name": "python3"
  },
  "language_info": {
   "codemirror_mode": {
    "name": "ipython",
    "version": 2
   },
   "file_extension": ".py",
   "mimetype": "text/x-python",
   "name": "python",
   "nbconvert_exporter": "python",
   "pygments_lexer": "ipython2",
   "version": "2.7.6"
  }
 },
 "nbformat": 4,
 "nbformat_minor": 0
}