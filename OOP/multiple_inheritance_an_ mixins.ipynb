{
 "cells": [
  {
   "cell_type": "code",
   "execution_count": 19,
   "outputs": [],
   "source": [
    "\"\"\"миксин - это родительский класс, который предоставляет функциональные возможности подклассам,\n",
    "но не предназначен для создания экземпляров самого себя\"\"\"\n",
    "\n",
    "\n",
    "class Goods:\n",
    "    def __init__(self, name, weight, price):\n",
    "        super().__init__()\n",
    "        print('init Goods')\n",
    "        self.name = name\n",
    "        self.weight = weight\n",
    "        self.price = price\n",
    "\n",
    "    def print_info(self):\n",
    "        print(f'{self.name}, {self.weight}, {self.price}')\n",
    "\n",
    "\n",
    "class MixinLog:\n",
    "    ID = 0\n",
    "\n",
    "    def __init__(self):\n",
    "        print(\"init MixinLog\")\n",
    "        self.ID += 1\n",
    "        self.id = self.ID\n",
    "\n",
    "    def save_sell_log(self):\n",
    "        print(f'{self.id}: товар был продан в 13.12')\n",
    "\n",
    "    def print_info(self):\n",
    "        print(f'Из Микиснлога')\n",
    "\n",
    "\n",
    "class Notebook(Goods, MixinLog):\n",
    "\n",
    "    def print_info(self):\n",
    "        MixinLog.print_info(self)"
   ],
   "metadata": {
    "collapsed": false,
    "pycharm": {
     "name": "#%%\n"
    }
   }
  },
  {
   "cell_type": "code",
   "execution_count": 21,
   "outputs": [
    {
     "name": "stdout",
     "output_type": "stream",
     "text": [
      "init MixinLog\n",
      "init Goods\n",
      "Из Микиснлога\n",
      "Из Микиснлога\n",
      "(<class '__main__.Notebook'>, <class '__main__.Goods'>, <class '__main__.MixinLog'>, <class 'object'>)\n"
     ]
    }
   ],
   "source": [
    "ntb = Notebook('Acer', 1.5, 300)\n",
    "ntb.print_info()\n",
    "MixinLog.print_info(ntb)\n",
    "print(Notebook.__mro__)  #<- очерденость наследования"
   ],
   "metadata": {
    "collapsed": false,
    "pycharm": {
     "name": "#%%\n"
    }
   }
  },
  {
   "cell_type": "code",
   "execution_count": null,
   "outputs": [],
   "source": [],
   "metadata": {
    "collapsed": false,
    "pycharm": {
     "name": "#%%\n"
    }
   }
  }
 ],
 "metadata": {
  "kernelspec": {
   "display_name": "Python 3",
   "language": "python",
   "name": "python3"
  },
  "language_info": {
   "codemirror_mode": {
    "name": "ipython",
    "version": 2
   },
   "file_extension": ".py",
   "mimetype": "text/x-python",
   "name": "python",
   "nbconvert_exporter": "python",
   "pygments_lexer": "ipython2",
   "version": "2.7.6"
  }
 },
 "nbformat": 4,
 "nbformat_minor": 0
}