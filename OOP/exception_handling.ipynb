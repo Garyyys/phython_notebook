{
 "cells": [
  {
   "cell_type": "code",
   "execution_count": 3,
   "outputs": [
    {
     "name": "stdout",
     "output_type": "stream",
     "text": [
      "Такого файла не существует\n",
      "Шататное завершение программы\n"
     ]
    }
   ],
   "source": [
    "try:\n",
    "    f = open('myfile1.txt')\n",
    "except FileNotFoundError:\n",
    "    print(\"Такого файла не существует\")\n",
    "\n",
    "print('Шататное завершение программы')"
   ],
   "metadata": {
    "collapsed": false,
    "pycharm": {
     "name": "#%%\n"
    }
   }
  },
  {
   "cell_type": "code",
   "execution_count": 9,
   "outputs": [
    {
     "name": "stdout",
     "output_type": "stream",
     "text": [
      "Делить на ноль нельзя\n",
      "Шататное завершение программы\n",
      "1 0\n"
     ]
    }
   ],
   "source": [
    "try:\n",
    "    x, y = map(int, input().split())\n",
    "    res = x / y\n",
    "except ValueError:\n",
    "    print('Неверный формат данных')\n",
    "\n",
    "except ZeroDivisionError:\n",
    "    print(\"Делить на ноль нельзя\")\n",
    "\n",
    "print('Шататное завершение программы')\n",
    "print(x, y)"
   ],
   "metadata": {
    "collapsed": false,
    "pycharm": {
     "name": "#%%\n"
    }
   }
  },
  {
   "cell_type": "markdown",
   "source": [
    "Про необязательные блоки finally и else"
   ],
   "metadata": {
    "collapsed": false,
    "pycharm": {
     "name": "#%% md\n"
    }
   }
  },
  {
   "cell_type": "code",
   "execution_count": 17,
   "outputs": [
    {
     "name": "stdout",
     "output_type": "stream",
     "text": [
      "invalid literal for int() with base 10: 's'\n",
      "finally выполняется всегда\n",
      "Шататное завершение программы\n",
      "0.5\n",
      "1 0\n"
     ]
    }
   ],
   "source": [
    "try:\n",
    "    x, y = map(int, input().split())\n",
    "    res = x / y\n",
    "except ValueError as v:  #присваиваем имя классу исключения\n",
    "    print(v)\n",
    "\n",
    "except ZeroDivisionError:\n",
    "    print(\"Делить на ноль нельзя\")\n",
    "\n",
    "else:\n",
    "    print('Исключений не произошло')\n",
    "\n",
    "finally:\n",
    "    print('finally выполняется всегда')\n",
    "\n",
    "print('Шататное завершение программы')\n",
    "print(res)\n",
    "print(x, y)"
   ],
   "metadata": {
    "collapsed": false,
    "pycharm": {
     "name": "#%%\n"
    }
   }
  },
  {
   "cell_type": "code",
   "execution_count": 19,
   "outputs": [
    {
     "name": "stdout",
     "output_type": "stream",
     "text": [
      "Файл закрыт\n"
     ]
    }
   ],
   "source": [
    "try:\n",
    "    f = open('myfile.txt')\n",
    "    # f.write('hello')\n",
    "except FileNotFoundError as f:\n",
    "    print(f)\n",
    "except:\n",
    "    print('Другая ошибка')\n",
    "finally:\n",
    "    if f:\n",
    "        f.close()\n",
    "        print('Файл закрыт')"
   ],
   "metadata": {
    "collapsed": false,
    "pycharm": {
     "name": "#%%\n"
    }
   }
  },
  {
   "cell_type": "code",
   "execution_count": 28,
   "outputs": [],
   "source": [
    "def get_values():\n",
    "    try:\n",
    "        x, y = map(int, input().split())\n",
    "        try:\n",
    "            res = x / y\n",
    "        except ZeroDivisionError:\n",
    "            print('Делить на ноль нельзя')\n",
    "        else:\n",
    "            return res\n",
    "    except ValueError as v:\n",
    "        print(v)\n",
    "        return 0, 0\n",
    "    finally:\n",
    "        print('finally выполняется до return')"
   ],
   "metadata": {
    "collapsed": false,
    "pycharm": {
     "name": "#%%\n"
    }
   }
  },
  {
   "cell_type": "code",
   "execution_count": 30,
   "outputs": [
    {
     "name": "stdout",
     "output_type": "stream",
     "text": [
      "Делить на ноль нельзя\n",
      "finally выполняется до return\n",
      "None\n"
     ]
    }
   ],
   "source": [
    "print(get_values())"
   ],
   "metadata": {
    "collapsed": false,
    "pycharm": {
     "name": "#%%\n"
    }
   }
  },
  {
   "cell_type": "markdown",
   "source": [
    "Можно делать вложенные блоки try/except"
   ],
   "metadata": {
    "collapsed": false,
    "pycharm": {
     "name": "#%% md\n"
    }
   }
  },
  {
   "cell_type": "markdown",
   "source": [
    "raise намеренный вызов исключения"
   ],
   "metadata": {
    "collapsed": false,
    "pycharm": {
     "name": "#%% md\n"
    }
   }
  },
  {
   "cell_type": "code",
   "execution_count": 33,
   "outputs": [
    {
     "ename": "ValueError",
     "evalue": "неверное значение",
     "output_type": "error",
     "traceback": [
      "\u001B[0;31m---------------------------------------------------------------------------\u001B[0m",
      "\u001B[0;31mValueError\u001B[0m                                Traceback (most recent call last)",
      "Input \u001B[0;32mIn [33]\u001B[0m, in \u001B[0;36m<cell line: 1>\u001B[0;34m()\u001B[0m\n\u001B[0;32m----> 1\u001B[0m \u001B[38;5;28;01mraise\u001B[39;00m \u001B[38;5;167;01mValueError\u001B[39;00m(\u001B[38;5;124m'\u001B[39m\u001B[38;5;124mневерное значение\u001B[39m\u001B[38;5;124m'\u001B[39m)\n",
      "\u001B[0;31mValueError\u001B[0m: неверное значение"
     ]
    }
   ],
   "source": [
    "raise ValueError('неверное значение')"
   ],
   "metadata": {
    "collapsed": false,
    "pycharm": {
     "name": "#%%\n"
    }
   }
  },
  {
   "cell_type": "code",
   "execution_count": 42,
   "outputs": [],
   "source": [
    "class ExceptionPrint(Exception):\n",
    "    pass\n",
    "\n",
    "\n",
    "class ExceptionPrintData(ExceptionPrint):\n",
    "    \"\"\"Класс исключение при отправке данных принтеру\"\"\"\n",
    "\n",
    "    def __init__(self, *args):\n",
    "        self.message = args[0] if args else None\n",
    "\n",
    "    def __str__(self):\n",
    "        return f'Ошибка: {self.message}'\n",
    "\n",
    "\n",
    "class PrintData:\n",
    "    def print(self, data):\n",
    "        self.send_data(data)\n",
    "        print(f'печать: {str(data)}')\n",
    "\n",
    "    def send_data(self, data):\n",
    "        if not self.send_data_to_print(data):\n",
    "            raise ExceptionPrintData('Принтер не отвечает')\n",
    "\n",
    "    def send_data_to_print(self, data):\n",
    "        return False"
   ],
   "metadata": {
    "collapsed": false,
    "pycharm": {
     "name": "#%%\n"
    }
   }
  },
  {
   "cell_type": "code",
   "execution_count": 40,
   "outputs": [
    {
     "ename": "ExceptionPrintData",
     "evalue": "Ошибка: Принтер не отвечает",
     "output_type": "error",
     "traceback": [
      "\u001B[0;31m---------------------------------------------------------------------------\u001B[0m",
      "\u001B[0;31mExceptionPrintData\u001B[0m                        Traceback (most recent call last)",
      "Input \u001B[0;32mIn [40]\u001B[0m, in \u001B[0;36m<cell line: 2>\u001B[0;34m()\u001B[0m\n\u001B[1;32m      1\u001B[0m p \u001B[38;5;241m=\u001B[39m PrintData()\n\u001B[0;32m----> 2\u001B[0m \u001B[43mp\u001B[49m\u001B[38;5;241;43m.\u001B[39;49m\u001B[43mprint\u001B[49m\u001B[43m(\u001B[49m\u001B[38;5;124;43m'\u001B[39;49m\u001B[38;5;124;43m123\u001B[39;49m\u001B[38;5;124;43m'\u001B[39;49m\u001B[43m)\u001B[49m\n",
      "Input \u001B[0;32mIn [39]\u001B[0m, in \u001B[0;36mPrintData.print\u001B[0;34m(self, data)\u001B[0m\n\u001B[1;32m     12\u001B[0m \u001B[38;5;28;01mdef\u001B[39;00m \u001B[38;5;21mprint\u001B[39m(\u001B[38;5;28mself\u001B[39m, data):\n\u001B[0;32m---> 13\u001B[0m     \u001B[38;5;28;43mself\u001B[39;49m\u001B[38;5;241;43m.\u001B[39;49m\u001B[43msend_data\u001B[49m\u001B[43m(\u001B[49m\u001B[43mdata\u001B[49m\u001B[43m)\u001B[49m\n\u001B[1;32m     14\u001B[0m     \u001B[38;5;28mprint\u001B[39m(\u001B[38;5;124mf\u001B[39m\u001B[38;5;124m'\u001B[39m\u001B[38;5;124mпечать: \u001B[39m\u001B[38;5;132;01m{\u001B[39;00m\u001B[38;5;28mstr\u001B[39m(data)\u001B[38;5;132;01m}\u001B[39;00m\u001B[38;5;124m'\u001B[39m)\n",
      "Input \u001B[0;32mIn [39]\u001B[0m, in \u001B[0;36mPrintData.send_data\u001B[0;34m(self, data)\u001B[0m\n\u001B[1;32m     16\u001B[0m \u001B[38;5;28;01mdef\u001B[39;00m \u001B[38;5;21msend_data\u001B[39m(\u001B[38;5;28mself\u001B[39m, data):\n\u001B[1;32m     17\u001B[0m     \u001B[38;5;28;01mif\u001B[39;00m \u001B[38;5;129;01mnot\u001B[39;00m \u001B[38;5;28mself\u001B[39m\u001B[38;5;241m.\u001B[39msend_data_to_print(data):\n\u001B[0;32m---> 18\u001B[0m         \u001B[38;5;28;01mraise\u001B[39;00m ExceptionPrintData(\u001B[38;5;124m'\u001B[39m\u001B[38;5;124mПринтер не отвечает\u001B[39m\u001B[38;5;124m'\u001B[39m)\n",
      "\u001B[0;31mExceptionPrintData\u001B[0m: Ошибка: Принтер не отвечает"
     ]
    }
   ],
   "source": [
    "p = PrintData()\n",
    "# p.print('123')\n",
    "\n",
    "try:\n",
    "    p.print('123')\n",
    "except ExceptionPrintData:\n",
    "    print('Принтер не отвечает')\n",
    "except ExceptionPrint: #<- так можно выстраивать иерархию пользовательских исключенй\n",
    "    print('Общая ошибка')"
   ],
   "metadata": {
    "collapsed": false,
    "pycharm": {
     "name": "#%%\n"
    }
   }
  },
  {
   "cell_type": "code",
   "execution_count": null,
   "outputs": [],
   "source": [
    "class ExceptionPrintData(Exception):\n",
    "    pass"
   ],
   "metadata": {
    "collapsed": false,
    "pycharm": {
     "name": "#%%\n"
    }
   }
  }
 ],
 "metadata": {
  "kernelspec": {
   "display_name": "Python 3",
   "language": "python",
   "name": "python3"
  },
  "language_info": {
   "codemirror_mode": {
    "name": "ipython",
    "version": 2
   },
   "file_extension": ".py",
   "mimetype": "text/x-python",
   "name": "python",
   "nbconvert_exporter": "python",
   "pygments_lexer": "ipython2",
   "version": "2.7.6"
  }
 },
 "nbformat": 4,
 "nbformat_minor": 0
}