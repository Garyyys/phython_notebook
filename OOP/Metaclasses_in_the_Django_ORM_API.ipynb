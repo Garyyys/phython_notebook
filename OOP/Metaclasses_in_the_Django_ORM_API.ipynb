{
 "cells": [
  {
   "cell_type": "code",
   "execution_count": 1,
   "outputs": [],
   "source": [
    "class Meta(type):\n",
    "    def create_locals_attrs(self, *args, **kwargs):\n",
    "        for key, value in self.class_attrs.items():\n",
    "            self.__dict__[key] = value\n",
    "\n",
    "    def __init__(cls, name, base, attrs):\n",
    "        cls.class_attrs = attrs\n",
    "        cls.__init__ = Meta.create_locals_attrs\n",
    "\n",
    "\n",
    "\n",
    "class Women(metaclass=Meta):\n",
    "    title = 'заголовок'\n",
    "    content = 'контент'\n",
    "    photo = 'путь к фото'"
   ],
   "metadata": {
    "collapsed": false,
    "pycharm": {
     "name": "#%%\n"
    }
   }
  },
  {
   "cell_type": "code",
   "execution_count": 2,
   "outputs": [
    {
     "name": "stdout",
     "output_type": "stream",
     "text": [
      "{'__module__': '__main__', '__qualname__': 'Women', 'title': 'заголовок', 'content': 'контент', 'photo': 'путь к фото'}\n"
     ]
    }
   ],
   "source": [
    "w = Women()\n",
    "print(w.__dict__)"
   ],
   "metadata": {
    "collapsed": false,
    "pycharm": {
     "name": "#%%\n"
    }
   }
  },
  {
   "cell_type": "code",
   "execution_count": null,
   "outputs": [],
   "source": [],
   "metadata": {
    "collapsed": false,
    "pycharm": {
     "name": "#%%\n"
    }
   }
  }
 ],
 "metadata": {
  "kernelspec": {
   "display_name": "Python 3",
   "language": "python",
   "name": "python3"
  },
  "language_info": {
   "codemirror_mode": {
    "name": "ipython",
    "version": 2
   },
   "file_extension": ".py",
   "mimetype": "text/x-python",
   "name": "python",
   "nbconvert_exporter": "python",
   "pygments_lexer": "ipython2",
   "version": "2.7.6"
  }
 },
 "nbformat": 4,
 "nbformat_minor": 0
}