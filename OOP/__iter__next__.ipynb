{
 "cells": [
  {
   "cell_type": "code",
   "execution_count": 2,
   "outputs": [],
   "source": [
    "\"\"\"__iter__(self) - получение итератора для перебора объекта;\n",
    "__next__(self) - переход к следующему значению и его считываение\"\"\"\n",
    "\n",
    "list(range(5))\n",
    "a = iter(range(5))"
   ],
   "metadata": {
    "collapsed": false,
    "pycharm": {
     "name": "#%%\n"
    }
   }
  },
  {
   "cell_type": "code",
   "execution_count": 3,
   "outputs": [
    {
     "data": {
      "text/plain": "4"
     },
     "execution_count": 3,
     "metadata": {},
     "output_type": "execute_result"
    }
   ],
   "source": [
    "next(a)\n",
    "next(a)\n",
    "next(a)\n",
    "next(a)\n",
    "next(a)"
   ],
   "metadata": {
    "collapsed": false,
    "pycharm": {
     "name": "#%%\n"
    }
   }
  },
  {
   "cell_type": "code",
   "execution_count": 4,
   "outputs": [
    {
     "ename": "StopIteration",
     "evalue": "",
     "output_type": "error",
     "traceback": [
      "\u001B[0;31m---------------------------------------------------------------------------\u001B[0m",
      "\u001B[0;31mStopIteration\u001B[0m                             Traceback (most recent call last)",
      "Input \u001B[0;32mIn [4]\u001B[0m, in \u001B[0;36m<cell line: 1>\u001B[0;34m()\u001B[0m\n\u001B[0;32m----> 1\u001B[0m \u001B[38;5;28;43mnext\u001B[39;49m\u001B[43m(\u001B[49m\u001B[43ma\u001B[49m\u001B[43m)\u001B[49m\n",
      "\u001B[0;31mStopIteration\u001B[0m: "
     ]
    }
   ],
   "source": [
    "next(a)"
   ],
   "metadata": {
    "collapsed": false,
    "pycharm": {
     "name": "#%%\n"
    }
   }
  },
  {
   "cell_type": "code",
   "execution_count": 14,
   "outputs": [],
   "source": [
    "class Frange:\n",
    "    def __init__(self, start=0.0, stop=0.0, step=1.0):\n",
    "        self.start = start\n",
    "        self.stop = stop\n",
    "        self.step = step\n",
    "\n",
    "\n",
    "    def __iter__(self):\n",
    "        self.value = self.start - self.step\n",
    "        return self\n",
    "\n",
    "    def __next__(self):\n",
    "        if self.value + self.step < self.stop:\n",
    "            self.value += self.step\n",
    "            return self.value\n",
    "        else:\n",
    "            raise StopIteration\n",
    "\n"
   ],
   "metadata": {
    "collapsed": false,
    "pycharm": {
     "name": "#%%\n"
    }
   }
  },
  {
   "cell_type": "code",
   "execution_count": 15,
   "outputs": [
    {
     "name": "stdout",
     "output_type": "stream",
     "text": [
      "0.0\n",
      "0.5\n",
      "1.0\n",
      "1.5\n"
     ]
    }
   ],
   "source": [
    "fr = Frange(0, 2, 0.5)\n",
    "for x in fr:\n",
    "    print(x)"
   ],
   "metadata": {
    "collapsed": false,
    "pycharm": {
     "name": "#%%\n"
    }
   }
  },
  {
   "cell_type": "code",
   "execution_count": 17,
   "outputs": [],
   "source": [
    "class FRange2D:\n",
    "    def __init__(self, start=0.0, stop=0.0, step=1.0, rows=5):\n",
    "        self.rows = rows\n",
    "        self.fr = Frange(start, stop, step)\n",
    "\n",
    "    def __iter__(self):\n",
    "        self.value = 0\n",
    "        return self\n",
    "\n",
    "    def __next__(self):\n",
    "        if self.value < self.rows:\n",
    "            self.value += 1\n",
    "            return iter(self.fr)\n",
    "        else:\n",
    "            raise StopIteration"
   ],
   "metadata": {
    "collapsed": false,
    "pycharm": {
     "name": "#%%\n"
    }
   }
  },
  {
   "cell_type": "code",
   "execution_count": 25,
   "outputs": [
    {
     "name": "stdout",
     "output_type": "stream",
     "text": [
      "0.0 0.5 1.0 1.5 \n",
      "0.0 0.5 1.0 1.5 \n",
      "0.0 0.5 1.0 1.5 \n",
      "0.0 0.5 1.0 1.5 \n"
     ]
    }
   ],
   "source": [
    "fr = FRange2D(0, 2, 0.5, 4)\n",
    "for row in fr:\n",
    "    for x in row:\n",
    "        print(x, end=' ')\n",
    "    print()"
   ],
   "metadata": {
    "collapsed": false,
    "pycharm": {
     "name": "#%%\n"
    }
   }
  },
  {
   "cell_type": "code",
   "execution_count": null,
   "outputs": [],
   "source": [],
   "metadata": {
    "collapsed": false,
    "pycharm": {
     "name": "#%%\n"
    }
   }
  }
 ],
 "metadata": {
  "kernelspec": {
   "display_name": "Python 3",
   "language": "python",
   "name": "python3"
  },
  "language_info": {
   "codemirror_mode": {
    "name": "ipython",
    "version": 2
   },
   "file_extension": ".py",
   "mimetype": "text/x-python",
   "name": "python",
   "nbconvert_exporter": "python",
   "pygments_lexer": "ipython2",
   "version": "2.7.6"
  }
 },
 "nbformat": 4,
 "nbformat_minor": 0
}