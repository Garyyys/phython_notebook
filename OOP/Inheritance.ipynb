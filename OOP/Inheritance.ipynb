{
 "cells": [
  {
   "cell_type": "code",
   "execution_count": 10,
   "outputs": [],
   "source": [
    "class Geom: #<- базовый или родительский класс\n",
    "    name = \"Geom\"\n",
    "\n",
    "    def set_coords(self, x1, y1, x2, y2):\n",
    "        self.x1 = x1\n",
    "        self.y1 = y1\n",
    "        self.x2 = x2\n",
    "        self.y2 = y2\n",
    "\n",
    "\n",
    "class Line(Geom): #<- подкласс или дочерний класс\n",
    "    name = \"line\"\n",
    "\n",
    "    def draw(self):\n",
    "        print(\"Рисование линии\")\n",
    "\n",
    "\n",
    "class Rect(Geom): #<- подкласс или дочерний класс\n",
    "    def draw(self):\n",
    "        print(\"Рисование прямоугольника\")"
   ],
   "metadata": {
    "collapsed": false,
    "pycharm": {
     "name": "#%%\n"
    }
   }
  },
  {
   "cell_type": "code",
   "execution_count": 11,
   "outputs": [
    {
     "name": "stdout",
     "output_type": "stream",
     "text": [
      "Geom\n"
     ]
    }
   ],
   "source": [
    "g = Geom()\n",
    "l = Line()\n",
    "r = Rect()\n",
    "print(l.name) #<- наследуем атрибут из класса Геом"
   ],
   "metadata": {
    "collapsed": false,
    "pycharm": {
     "name": "#%%\n"
    }
   }
  },
  {
   "cell_type": "code",
   "execution_count": 12,
   "outputs": [
    {
     "name": "stdout",
     "output_type": "stream",
     "text": [
      "Рисование линии\n",
      "Рисование прямоугольника\n"
     ]
    }
   ],
   "source": [
    "l.set_coords(1, 1, 2, 2)\n",
    "r.set_coords(1, 1, 2, 2)  # возможность использовать методы и атрибуты родительских классов в разных дочках"
   ],
   "metadata": {
    "collapsed": false,
    "pycharm": {
     "name": "#%%\n"
    }
   }
  },
  {
   "cell_type": "code",
   "execution_count": 9,
   "outputs": [
    {
     "name": "stdout",
     "output_type": "stream",
     "text": [
      "{'x1': 1, 'y1': 1, 'x2': 2, 'y2': 2}\n",
      "{'x1': 1, 'y1': 1, 'x2': 2, 'y2': 2}\n"
     ]
    }
   ],
   "source": [
    "print(l.__dict__)\n",
    "print(r.__dict__)"
   ],
   "metadata": {
    "collapsed": false,
    "pycharm": {
     "name": "#%%\n"
    }
   }
  },
  {
   "cell_type": "code",
   "execution_count": null,
   "outputs": [],
   "source": [],
   "metadata": {
    "collapsed": false,
    "pycharm": {
     "name": "#%%\n"
    }
   }
  }
 ],
 "metadata": {
  "kernelspec": {
   "display_name": "Python 3",
   "language": "python",
   "name": "python3"
  },
  "language_info": {
   "codemirror_mode": {
    "name": "ipython",
    "version": 2
   },
   "file_extension": ".py",
   "mimetype": "text/x-python",
   "name": "python",
   "nbconvert_exporter": "python",
   "pygments_lexer": "ipython2",
   "version": "2.7.6"
  }
 },
 "nbformat": 4,
 "nbformat_minor": 0
}