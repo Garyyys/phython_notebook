{
 "cells": [
  {
   "cell_type": "code",
   "execution_count": 15,
   "outputs": [],
   "source": [
    "class Geom:\n",
    "    name = \"Geom\"\n",
    "\n",
    "    def __init__(self, x1, y1, x2, y2):\n",
    "        print(f'инициализатор Geom для {self.__class__}')\n",
    "        self.x1 = x1\n",
    "        self.y1 = y1\n",
    "        self.x2 = x2\n",
    "        self.y2 = y2\n",
    "\n",
    "class Line(Geom):\n",
    "\n",
    "    def draw(self):\n",
    "        print(\"Рисование линии\")\n",
    "\n",
    "\n",
    "class Rect(Geom):\n",
    "\n",
    "    def __init__(self, x1, y1, x2, y2, fill=None):\n",
    "        super(Rect, self).__init__(x1, y1, x2, y2)\n",
    "        print(\"Инициализатор класса Rect\")\n",
    "        self.fill = fill\n",
    "\n",
    "    def draw(self):\n",
    "        print(\"Рисование прямоугольника\")"
   ],
   "metadata": {
    "collapsed": false,
    "pycharm": {
     "name": "#%%\n"
    }
   }
  },
  {
   "cell_type": "code",
   "execution_count": 16,
   "outputs": [
    {
     "name": "stdout",
     "output_type": "stream",
     "text": [
      "инициализатор Geom для <class '__main__.Line'>\n",
      "инициализатор Geom для <class '__main__.Rect'>\n",
      "Инициализатор класса Rect\n"
     ]
    }
   ],
   "source": [
    "l = Line(0, 0, 10, 20)\n",
    "r = Rect(1, 2, 3, 4)\n"
   ],
   "metadata": {
    "collapsed": false,
    "pycharm": {
     "name": "#%%\n"
    }
   }
  },
  {
   "cell_type": "code",
   "execution_count": 17,
   "outputs": [
    {
     "name": "stdout",
     "output_type": "stream",
     "text": [
      "{'x1': 1, 'y1': 2, 'x2': 3, 'y2': 4, 'fill': None}\n"
     ]
    }
   ],
   "source": [
    "print(r.__dict__)"
   ],
   "metadata": {
    "collapsed": false,
    "pycharm": {
     "name": "#%%\n"
    }
   }
  },
  {
   "cell_type": "code",
   "execution_count": null,
   "outputs": [],
   "source": [],
   "metadata": {
    "collapsed": false,
    "pycharm": {
     "name": "#%%\n"
    }
   }
  }
 ],
 "metadata": {
  "kernelspec": {
   "display_name": "Python 3",
   "language": "python",
   "name": "python3"
  },
  "language_info": {
   "codemirror_mode": {
    "name": "ipython",
    "version": 2
   },
   "file_extension": ".py",
   "mimetype": "text/x-python",
   "name": "python",
   "nbconvert_exporter": "python",
   "pygments_lexer": "ipython2",
   "version": "2.7.6"
  }
 },
 "nbformat": 4,
 "nbformat_minor": 0
}